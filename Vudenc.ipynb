{
  "cells": [
    {
      "cell_type": "markdown",
      "metadata": {
        "id": "view-in-github",
        "colab_type": "text"
      },
      "source": [
        "<a href=\"https://colab.research.google.com/github/Edwin372/Thesis/blob/main/Vudenc.ipynb\" target=\"_parent\"><img src=\"https://colab.research.google.com/assets/colab-badge.svg\" alt=\"Open In Colab\"/></a>"
      ]
    },
    {
      "cell_type": "code",
      "execution_count": 1,
      "metadata": {
        "colab": {
          "base_uri": "https://localhost:8080/"
        },
        "id": "6E4z66vGHOFS",
        "outputId": "506cf83d-0ad2-4fb4-ff6f-c39114faf505"
      },
      "outputs": [
        {
          "output_type": "stream",
          "name": "stdout",
          "text": [
            "Cloning into 'VulnerabilityDetection'...\n",
            "remote: Enumerating objects: 1250, done.\u001b[K\n",
            "remote: Counting objects: 100% (158/158), done.\u001b[K\n",
            "remote: Compressing objects: 100% (133/133), done.\u001b[K\n",
            "remote: Total 1250 (delta 44), reused 133 (delta 25), pack-reused 1092\u001b[K\n",
            "Receiving objects: 100% (1250/1250), 294.55 MiB | 43.11 MiB/s, done.\n",
            "Resolving deltas: 100% (473/473), done.\n",
            "Checking out files: 100% (206/206), done.\n",
            "Cloning into 'thesis'...\n",
            "remote: Enumerating objects: 20, done.\u001b[K\n",
            "remote: Counting objects: 100% (20/20), done.\u001b[K\n",
            "remote: Compressing objects: 100% (19/19), done.\u001b[K\n",
            "remote: Total 20 (delta 8), reused 0 (delta 0), pack-reused 0\u001b[K\n",
            "Unpacking objects: 100% (20/20), done.\n",
            "Looking in indexes: https://pypi.org/simple, https://us-python.pkg.dev/colab-wheels/public/simple/\n",
            "Collecting torchmetrics\n",
            "  Downloading torchmetrics-0.9.3-py3-none-any.whl (419 kB)\n",
            "\u001b[K     |████████████████████████████████| 419 kB 30.4 MB/s \n",
            "\u001b[?25hRequirement already satisfied: typing-extensions in /usr/local/lib/python3.7/dist-packages (from torchmetrics) (4.1.1)\n",
            "Requirement already satisfied: torch>=1.3.1 in /usr/local/lib/python3.7/dist-packages (from torchmetrics) (1.12.1+cu113)\n",
            "Requirement already satisfied: packaging in /usr/local/lib/python3.7/dist-packages (from torchmetrics) (21.3)\n",
            "Requirement already satisfied: numpy>=1.17.2 in /usr/local/lib/python3.7/dist-packages (from torchmetrics) (1.21.6)\n",
            "Requirement already satisfied: pyparsing!=3.0.5,>=2.0.2 in /usr/local/lib/python3.7/dist-packages (from packaging->torchmetrics) (3.0.9)\n",
            "Installing collected packages: torchmetrics\n",
            "Successfully installed torchmetrics-0.9.3\n",
            "\n",
            "UNRAR 5.50 freeware      Copyright (c) 1993-2017 Alexander Roshal\n",
            "\n",
            "\n",
            "Extracting from /content/w2v/othermodels.rar\n",
            "\n",
            "Extracting  /content/w2v/word2vec_withoutString10-1-200.model            \b\b\b\b  0%\b\b\b\b  1%\b\b\b\b  2%\b\b\b\b  3%\b\b\b\b\b  OK \n",
            "Extracting  /content/w2v/word2vec_withoutString10-5-200.model            \b\b\b\b  3%\b\b\b\b  4%\b\b\b\b  5%\b\b\b\b  6%\b\b\b\b\b  OK \n",
            "Extracting  /content/w2v/word2vec_withoutString10-10-200.model           \b\b\b\b  6%\b\b\b\b  7%\b\b\b\b  8%\b\b\b\b  9%\b\b\b\b 10%\b\b\b\b\b  OK \n",
            "Extracting  /content/w2v/word2vec_withoutString10-30-200.model           \b\b\b\b 10%\b\b\b\b 11%\b\b\b\b 12%\b\b\b\b 13%\b\b\b\b\b  OK \n",
            "Extracting  /content/w2v/word2vec_withoutString10-50-200.model           \b\b\b\b 13%\b\b\b\b 14%\b\b\b\b 15%\b\b\b\b 16%\b\b\b\b\b  OK \n",
            "Extracting  /content/w2v/word2vec_withoutString10-100-200.model          \b\b\b\b 16%\b\b\b\b 17%\b\b\b\b 18%\b\b\b\b 19%\b\b\b\b 20%\b\b\b\b\b  OK \n",
            "Extracting  /content/w2v/word2vec_withoutString10-300-200.model          \b\b\b\b 20%\b\b\b\b 21%\b\b\b\b 22%\b\b\b\b 23%\b\b\b\b\b  OK \n",
            "Extracting  /content/w2v/word2vec_withoutString5000-1-200.model          \b\b\b\b 23%\b\b\b\b 24%\b\b\b\b 25%\b\b\b\b\b  OK \n",
            "Extracting  /content/w2v/word2vec_withoutString5000-5-200.model          \b\b\b\b 25%\b\b\b\b 26%\b\b\b\b 27%\b\b\b\b\b  OK \n",
            "Extracting  /content/w2v/word2vec_withoutString5000-10-200.model         \b\b\b\b 27%\b\b\b\b 28%\b\b\b\b 29%\b\b\b\b\b  OK \n",
            "Extracting  /content/w2v/word2vec_withoutString5000-30-200.model         \b\b\b\b 29%\b\b\b\b 30%\b\b\b\b 31%\b\b\b\b\b  OK \n",
            "Extracting  /content/w2v/word2vec_withoutString5000-50-200.model         \b\b\b\b 31%\b\b\b\b 32%\b\b\b\b 33%\b\b\b\b\b  OK \n",
            "Extracting  /content/w2v/word2vec_withoutString5000-100-200.model        \b\b\b\b 33%\b\b\b\b 34%\b\b\b\b 35%\b\b\b\b\b  OK \n",
            "Extracting  /content/w2v/word2vec_withoutString5000-300-200.model        \b\b\b\b 35%\b\b\b\b 36%\b\b\b\b 37%\b\b\b\b\b  OK \n",
            "Extracting  /content/w2v/word2vec_withoutString5000-500-200.model        \b\b\b\b 37%\b\b\b\b 38%\b\b\b\b 39%\b\b\b\b\b  OK \n",
            "Extracting  /content/w2v/word2vec_withString10-1-200.model               \b\b\b\b 39%\b\b\b\b 40%\b\b\b\b 41%\b\b\b\b 42%\b\b\b\b 43%\b\b\b\b 44%\b\b\b\b\b  OK \n",
            "Extracting  /content/w2v/word2vec_withString10-5-200.model               \b\b\b\b 44%\b\b\b\b 45%\b\b\b\b 46%\b\b\b\b 47%\b\b\b\b 48%\b\b\b\b\b  OK \n",
            "Extracting  /content/w2v/word2vec_withString10-10-200.model              \b\b\b\b 49%\b\b\b\b 50%\b\b\b\b 51%\b\b\b\b 52%\b\b\b\b 53%\b\b\b\b\b  OK \n",
            "Extracting  /content/w2v/word2vec_withString10-30-200.model              \b\b\b\b 53%\b\b\b\b 54%\b\b\b\b 55%\b\b\b\b 56%\b\b\b\b 57%\b\b\b\b 58%\b\b\b\b\b  OK \n",
            "Extracting  /content/w2v/word2vec_withString10-50-200.model              \b\b\b\b 58%\b\b\b\b 59%\b\b\b\b 60%\b\b\b\b 61%\b\b\b\b 62%\b\b\b\b\b  OK \n",
            "Extracting  /content/w2v/word2vec_withString10-100-200.model             \b\b\b\b 63%\b\b\b\b 64%\b\b\b\b 65%\b\b\b\b 66%\b\b\b\b 67%\b\b\b\b\b  OK \n",
            "Extracting  /content/w2v/word2vec_withString10-200-200.model             \b\b\b\b 67%\b\b\b\b 68%\b\b\b\b 69%\b\b\b\b 70%\b\b\b\b 71%\b\b\b\b 72%\b\b\b\b\b  OK \n",
            "\n",
            "Would you like to replace the existing file /content/w2v/word2vec_withString10-300-200.model\n",
            "9036021 bytes, modified on 2022-09-24 09:39\n",
            "with a new one\n",
            "9036021 bytes, modified on 2019-11-10 02:28\n",
            "\n",
            "[Y]es, [N]o, [A]ll, n[E]ver, [R]ename, [Q]uit A\n",
            "\n",
            "Extracting  /content/w2v/word2vec_withString10-300-200.model             \b\b\b\b 72%\b\b\b\b 73%\b\b\b\b 74%\b\b\b\b 75%\b\b\b\b 76%\b\b\b\b\b  OK \n",
            "Extracting  /content/w2v/word2vec_withString10-400-200.model             \b\b\b\b 77%\b\b\b\b 78%\b\b\b\b 79%\b\b\b\b 80%\b\b\b\b 81%\b\b\b\b\b  OK \n",
            "Extracting  /content/w2v/word2vec_withString5000-1-200.model             \b\b\b\b 81%\b\b\b\b 82%\b\b\b\b 83%\b\b\b\b 84%\b\b\b\b\b  OK \n",
            "Extracting  /content/w2v/word2vec_withString5000-5-200.model             \b\b\b\b 84%\b\b\b\b 85%\b\b\b\b 86%\b\b\b\b\b  OK \n",
            "Extracting  /content/w2v/word2vec_withString5000-10-200.model            \b\b\b\b 86%\b\b\b\b 87%\b\b\b\b 88%\b\b\b\b 89%\b\b\b\b\b  OK \n",
            "Extracting  /content/w2v/word2vec_withString5000-30-200.model            \b\b\b\b 89%\b\b\b\b 90%\b\b\b\b 91%\b\b\b\b 92%\b\b\b\b\b  OK \n",
            "Extracting  /content/w2v/word2vec_withString5000-50-200.model            \b\b\b\b 92%\b\b\b\b 93%\b\b\b\b 94%\b\b\b\b\b  OK \n",
            "Extracting  /content/w2v/word2vec_withString5000-100-200.model           \b\b\b\b 94%\b\b\b\b 95%\b\b\b\b 96%\b\b\b\b 97%\b\b\b\b\b  OK \n",
            "Extracting  /content/w2v/word2vec_withString5000-300-200.model           \b\b\b\b 97%\b\b\b\b 98%\b\b\b\b 99%\b\b\b\b\b  OK \n",
            "All OK\n",
            "\n",
            "UNRAR 5.50 freeware      Copyright (c) 1993-2017 Alexander Roshal\n",
            "\n",
            "\n",
            "Extracting from /content/w2v/pythontraining_withString.rar\n",
            "\n",
            "Extracting  /content/w2v/pythontraining_withString_X                     \b\b\b\b  0%\b\b\b\b  1%\b\b\b\b  2%\b\b\b\b  3%\b\b\b\b  4%\b\b\b\b  5%\b\b\b\b  6%\b\b\b\b  7%\b\b\b\b  8%\b\b\b\b  9%\b\b\b\b 10%\b\b\b\b 11%\b\b\b\b 12%\b\b\b\b 13%\b\b\b\b 14%\b\b\b\b 15%\b\b\b\b 16%\b\b\b\b 17%\b\b\b\b 18%\b\b\b\b 19%\b\b\b\b 20%\b\b\b\b 21%\b\b\b\b 22%\b\b\b\b 23%\b\b\b\b 24%\b\b\b\b 25%\b\b\b\b 26%\b\b\b\b 27%\b\b\b\b 28%\b\b\b\b 29%\b\b\b\b 30%\b\b\b\b 31%\b\b\b\b 32%\b\b\b\b 33%\b\b\b\b 34%\b\b\b\b 35%\b\b\b\b 36%\b\b\b\b 37%\b\b\b\b 38%\b\b\b\b 39%\b\b\b\b 40%\b\b\b\b 41%\b\b\b\b 42%\b\b\b\b 43%\b\b\b\b 44%\b\b\b\b 45%\b\b\b\b 46%\b\b\b\b 47%\b\b\b\b 48%\b\b\b\b 49%\b\b\b\b 50%\b\b\b\b 51%\b\b\b\b 52%\b\b\b\b 53%\b\b\b\b 54%\b\b\b\b 55%\b\b\b\b 56%\b\b\b\b 57%\b\b\b\b 58%\b\b\b\b 59%\b\b\b\b 60%\b\b\b\b 61%\b\b\b\b 62%\b\b\b\b 63%\b\b\b\b 64%\b\b\b\b 65%\b\b\b\b 66%\b\b\b\b 67%\b\b\b\b 68%\b\b\b\b 69%\b\b\b\b 70%\b\b\b\b 71%\b\b\b\b 72%\b\b\b\b 73%\b\b\b\b 74%\b\b\b\b 75%\b\b\b\b 76%\b\b\b\b 77%\b\b\b\b 78%\b\b\b\b 79%\b\b\b\b 80%\b\b\b\b 81%\b\b\b\b 82%\b\b\b\b 83%\b\b\b\b 84%\b\b\b\b 85%\b\b\b\b 86%\b\b\b\b 87%\b\b\b\b 88%\b\b\b\b 89%\b\b\b\b 90%\b\b\b\b 91%\b\b\b\b 92%\b\b\b\b 93%\b\b\b\b 94%\b\b\b\b 95%\b\b\b\b 96%\b\b\b\b 97%\b\b\b\b 98%\b\b\b\b 99%\b\b\b\b\b  OK \n",
            "All OK\n",
            "Looking in indexes: https://pypi.org/simple, https://us-python.pkg.dev/colab-wheels/public/simple/\n",
            "Collecting wandb\n",
            "  Downloading wandb-0.13.3-py2.py3-none-any.whl (1.8 MB)\n",
            "\u001b[K     |████████████████████████████████| 1.8 MB 30.1 MB/s \n",
            "\u001b[?25hRequirement already satisfied: protobuf<4.0dev,>=3.12.0 in /usr/local/lib/python3.7/dist-packages (from wandb) (3.17.3)\n",
            "Collecting shortuuid>=0.5.0\n",
            "  Downloading shortuuid-1.0.9-py3-none-any.whl (9.4 kB)\n",
            "Requirement already satisfied: setuptools in /usr/local/lib/python3.7/dist-packages (from wandb) (57.4.0)\n",
            "Requirement already satisfied: Click!=8.0.0,>=7.0 in /usr/local/lib/python3.7/dist-packages (from wandb) (7.1.2)\n",
            "Collecting sentry-sdk>=1.0.0\n",
            "  Downloading sentry_sdk-1.9.8-py2.py3-none-any.whl (158 kB)\n",
            "\u001b[K     |████████████████████████████████| 158 kB 59.3 MB/s \n",
            "\u001b[?25hCollecting setproctitle\n",
            "  Downloading setproctitle-1.3.2-cp37-cp37m-manylinux_2_5_x86_64.manylinux1_x86_64.manylinux_2_17_x86_64.manylinux2014_x86_64.whl (30 kB)\n",
            "Collecting GitPython>=1.0.0\n",
            "  Downloading GitPython-3.1.27-py3-none-any.whl (181 kB)\n",
            "\u001b[K     |████████████████████████████████| 181 kB 72.0 MB/s \n",
            "\u001b[?25hRequirement already satisfied: PyYAML in /usr/local/lib/python3.7/dist-packages (from wandb) (6.0)\n",
            "Requirement already satisfied: psutil>=5.0.0 in /usr/local/lib/python3.7/dist-packages (from wandb) (5.4.8)\n",
            "Collecting docker-pycreds>=0.4.0\n",
            "  Downloading docker_pycreds-0.4.0-py2.py3-none-any.whl (9.0 kB)\n",
            "Requirement already satisfied: six>=1.13.0 in /usr/local/lib/python3.7/dist-packages (from wandb) (1.15.0)\n",
            "Collecting pathtools\n",
            "  Downloading pathtools-0.1.2.tar.gz (11 kB)\n",
            "Requirement already satisfied: requests<3,>=2.0.0 in /usr/local/lib/python3.7/dist-packages (from wandb) (2.23.0)\n",
            "Requirement already satisfied: promise<3,>=2.0 in /usr/local/lib/python3.7/dist-packages (from wandb) (2.3)\n",
            "Requirement already satisfied: typing-extensions>=3.7.4.3 in /usr/local/lib/python3.7/dist-packages (from GitPython>=1.0.0->wandb) (4.1.1)\n",
            "Collecting gitdb<5,>=4.0.1\n",
            "  Downloading gitdb-4.0.9-py3-none-any.whl (63 kB)\n",
            "\u001b[K     |████████████████████████████████| 63 kB 2.2 MB/s \n",
            "\u001b[?25hCollecting smmap<6,>=3.0.1\n",
            "  Downloading smmap-5.0.0-py3-none-any.whl (24 kB)\n",
            "Requirement already satisfied: certifi>=2017.4.17 in /usr/local/lib/python3.7/dist-packages (from requests<3,>=2.0.0->wandb) (2022.6.15)\n",
            "Requirement already satisfied: idna<3,>=2.5 in /usr/local/lib/python3.7/dist-packages (from requests<3,>=2.0.0->wandb) (2.10)\n",
            "Requirement already satisfied: chardet<4,>=3.0.2 in /usr/local/lib/python3.7/dist-packages (from requests<3,>=2.0.0->wandb) (3.0.4)\n",
            "Requirement already satisfied: urllib3!=1.25.0,!=1.25.1,<1.26,>=1.21.1 in /usr/local/lib/python3.7/dist-packages (from requests<3,>=2.0.0->wandb) (1.24.3)\n",
            "Collecting sentry-sdk>=1.0.0\n",
            "  Downloading sentry_sdk-1.9.7-py2.py3-none-any.whl (157 kB)\n",
            "\u001b[K     |████████████████████████████████| 157 kB 73.5 MB/s \n",
            "\u001b[?25h  Downloading sentry_sdk-1.9.6-py2.py3-none-any.whl (157 kB)\n",
            "\u001b[K     |████████████████████████████████| 157 kB 76.1 MB/s \n",
            "\u001b[?25h  Downloading sentry_sdk-1.9.5-py2.py3-none-any.whl (157 kB)\n",
            "\u001b[K     |████████████████████████████████| 157 kB 77.1 MB/s \n",
            "\u001b[?25h  Downloading sentry_sdk-1.9.4-py2.py3-none-any.whl (157 kB)\n",
            "\u001b[K     |████████████████████████████████| 157 kB 74.8 MB/s \n",
            "\u001b[?25h  Downloading sentry_sdk-1.9.3-py2.py3-none-any.whl (157 kB)\n",
            "\u001b[K     |████████████████████████████████| 157 kB 74.8 MB/s \n",
            "\u001b[?25h  Downloading sentry_sdk-1.9.2-py2.py3-none-any.whl (157 kB)\n",
            "\u001b[K     |████████████████████████████████| 157 kB 68.4 MB/s \n",
            "\u001b[?25h  Downloading sentry_sdk-1.9.1-py2.py3-none-any.whl (157 kB)\n",
            "\u001b[K     |████████████████████████████████| 157 kB 67.2 MB/s \n",
            "\u001b[?25h  Downloading sentry_sdk-1.9.0-py2.py3-none-any.whl (156 kB)\n",
            "\u001b[K     |████████████████████████████████| 156 kB 73.8 MB/s \n",
            "\u001b[?25hBuilding wheels for collected packages: pathtools\n",
            "  Building wheel for pathtools (setup.py) ... \u001b[?25l\u001b[?25hdone\n",
            "  Created wheel for pathtools: filename=pathtools-0.1.2-py3-none-any.whl size=8806 sha256=08e31ac67588221b19d5f4e8facfd62b71ee6566a9f3452b0d6cbdfbde5c6390\n",
            "  Stored in directory: /root/.cache/pip/wheels/3e/31/09/fa59cef12cdcfecc627b3d24273699f390e71828921b2cbba2\n",
            "Successfully built pathtools\n",
            "Installing collected packages: smmap, gitdb, shortuuid, setproctitle, sentry-sdk, pathtools, GitPython, docker-pycreds, wandb\n",
            "Successfully installed GitPython-3.1.27 docker-pycreds-0.4.0 gitdb-4.0.9 pathtools-0.1.2 sentry-sdk-1.9.0 setproctitle-1.3.2 shortuuid-1.0.9 smmap-5.0.0 wandb-0.13.3\n"
          ]
        }
      ],
      "source": [
        "!git clone https://github.com/LauraWartschinski/VulnerabilityDetection.git\n",
        "!git clone https://github.com/Edwin372/thesis.git\n",
        "!pip install torchmetrics\n",
        "!mv /content/VulnerabilityDetection/Code/w2v /content\n",
        "!mv /content/VulnerabilityDetection/Code/myutils.py /content\n",
        "!mv /content/VulnerabilityDetection/Code/data /content\n",
        "!unrar e /content/w2v/othermodels.rar /content/w2v\n",
        "!unrar e /content/w2v/pythontraining_withString.rar /content/w2v\n",
        "!pip install wandb"
      ]
    },
    {
      "cell_type": "code",
      "execution_count": 2,
      "metadata": {
        "id": "C8KsoN1P-03G"
      },
      "outputs": [],
      "source": [
        "import torch\n",
        "import torch.nn as nn\n",
        "import myutils\n",
        "import sys\n",
        "import os\n",
        "from sklearn.metrics import accuracy_score \n",
        "from sklearn.metrics import precision_score \n",
        "from sklearn.metrics import recall_score \n",
        "from sklearn.metrics import f1_score \n",
        "from sklearn.utils import class_weight\n",
        "from gensim.models import Word2Vec \n",
        "import wandb\n",
        "\n",
        "use_cuda = torch.cuda.is_available()\n",
        "device = torch.device('cuda' if use_cuda else 'cpu')"
      ]
    },
    {
      "cell_type": "code",
      "source": [
        "from google.colab import drive\n",
        "drive.mount('/content/drive')"
      ],
      "metadata": {
        "colab": {
          "base_uri": "https://localhost:8080/"
        },
        "id": "aiCIUM-pmP6O",
        "outputId": "ccfa497c-be2c-4212-c31b-2a33759c61d6"
      },
      "execution_count": 3,
      "outputs": [
        {
          "output_type": "stream",
          "name": "stdout",
          "text": [
            "Mounted at /content/drive\n"
          ]
        }
      ]
    },
    {
      "cell_type": "code",
      "execution_count": 4,
      "metadata": {
        "id": "kDD_SZfM_7Rg"
      },
      "outputs": [],
      "source": [
        "#paramerters for filtering and creation of samples\n",
        "mode='sql'\n",
        "progress = 0\n",
        "count = 0\n",
        "restriction = [20000, 5, 6, 10]\n",
        "step = 5\n",
        "full_length = 200\n",
        "mode_param = str(step)+\"_\"+str(full_length)"
      ]
    },
    {
      "cell_type": "code",
      "execution_count": 5,
      "metadata": {
        "id": "5q_JAclsAXWo"
      },
      "outputs": [],
      "source": [
        "#parameters for w2v model\n",
        "mincount = 5000 #minimum time a word has to appear in the corpus to be in the w2vec model\n",
        "iterationen = 300  #training iterations for the w2v model\n",
        "s = 200 #d\n",
        "w = \"withString\"\n",
        "w2v_name = \"word2vec_\" + w + str(mincount) + \"-\" + str(iterationen) + \"-\" + str(s)\n",
        "w2v_model = 'w2v/'+ w2v_name + \".model\"\n",
        "\n",
        "w2v_model = Word2Vec.load(w2v_model)\n"
      ]
    },
    {
      "cell_type": "code",
      "source": [
        "wandb.login()"
      ],
      "metadata": {
        "colab": {
          "base_uri": "https://localhost:8080/"
        },
        "id": "EoFUNpsrwJZD",
        "outputId": "9cd85aa5-2a32-44c0-a302-7f3f9a740bd8"
      },
      "execution_count": 6,
      "outputs": [
        {
          "output_type": "stream",
          "name": "stderr",
          "text": [
            "ERROR:wandb.jupyter:Failed to detect the name of this notebook, you can set it manually with the WANDB_NOTEBOOK_NAME environment variable to enable code saving.\n",
            "\u001b[34m\u001b[1mwandb\u001b[0m: Currently logged in as: \u001b[33meddiechen372\u001b[0m. Use \u001b[1m`wandb login --relogin`\u001b[0m to force relogin\n"
          ]
        },
        {
          "output_type": "execute_result",
          "data": {
            "text/plain": [
              "True"
            ]
          },
          "metadata": {},
          "execution_count": 6
        }
      ]
    },
    {
      "cell_type": "code",
      "execution_count": 10,
      "metadata": {
        "id": "zsOqMIwzEWDB"
      },
      "outputs": [],
      "source": [
        "# import json\n",
        "\n",
        "# all_blocks = []\n",
        "# with open('data/plain_' + mode, 'r') as infile:\n",
        "#   data = json.load(infile)\n",
        "# allblocks = []\n",
        "# for r in data:\n",
        "#   progress = progress + 1\n",
        "#   for c in data[r]:\n",
        "    \n",
        "#     if \"files\" in data[r][c]:                      \n",
        "#       # if len(data[r][c][\"files\"]) > restriction[3]:\n",
        "#       #   # too many files\n",
        "#       #  continue\n",
        "      \n",
        "#       for f in data[r][c][\"files\"]:\n",
        "        \n",
        "#         # if len(data[r][c][\"files\"][f][\"changes\"]) >= restriction[2]:\n",
        "#         #   #too many changes in a single file\n",
        "#         #   continue\n",
        "        \n",
        "#         if not \"source\" in data[r][c][\"files\"][f]:\n",
        "#           #no sourcecode\n",
        "#           continue\n",
        "        \n",
        "#         if \"source\" in data[r][c][\"files\"][f]:\n",
        "#           sourcecode = data[r][c][\"files\"][f][\"source\"]                          \n",
        "#           # if len(sourcecode) > restriction[0]:\n",
        "#           #   #sourcecode is too long\n",
        "#           #   continue\n",
        "          \n",
        "#           allbadparts = []\n",
        "          \n",
        "#           for change in data[r][c][\"files\"][f][\"changes\"]:\n",
        "#                 #get the modified or removed parts from each change that happened in the commit                  \n",
        "#                 badparts = change[\"badparts\"]\n",
        "#                 count = count + len(badparts)\n",
        "#                 # if len(badparts) > restriction[1]:\n",
        "#                 #   #too many modifications in one change\n",
        "#                 #   break\n",
        "                 \n",
        "                \n",
        "#                 for bad in badparts:\n",
        "#                   #check if they can be found within the file\n",
        "#                   pos = myutils.findposition(bad,sourcecode)\n",
        "#                   if not -1 in pos:\n",
        "#                       allbadparts.append(bad)\n",
        "#                 # if (len(allbadparts) > restriction[4]):\n",
        "#                 #   # too many bad positions in the file\n",
        "#                 #   break\n",
        "#           if(len(allbadparts) > 0):\n",
        "#             # if len(allbadparts) < restriction[2]:\n",
        "#               # find the positions of all modified parts\n",
        "#               positions = myutils.findpositions(allbadparts,sourcecode)\n",
        "\n",
        "#               #get the file split up in samples\n",
        "#               blocks = myutils.getblocks(sourcecode, positions, step, full_length)\n",
        "              \n",
        "#               for b in blocks:\n",
        "#                   #each is a tuple of code and label\n",
        "#                   allblocks.append(b)\n"
      ]
    },
    {
      "cell_type": "code",
      "execution_count": 11,
      "metadata": {
        "id": "XHepG1nwMWBF"
      },
      "outputs": [],
      "source": [
        "import torch\n",
        "from torch.utils.data import Dataset\n",
        "from torchtext.transforms import ToTensor, PadTransform\n",
        "import random\n",
        "class MyDataset(Dataset):\n",
        "  def __init__(self, allblocks ,data_split='train', transform=None, target_transform=None):\n",
        "    self.allblocks = allblocks \n",
        "    self.transform = transform\n",
        "    self.target_transform = target_transform\n",
        "    self.data_split=data_split\n",
        "  \n",
        "    keys = []\n",
        "    for i in range(len(self.allblocks)):\n",
        "      keys.append(i)\n",
        "    random.shuffle(keys)\n",
        "    cutoff = round(0.7 * len(keys)) #     70% for the training set\n",
        "    cutoff2 = round(0.85 * len(keys)) #   15% for the validation set and 15% for the final test set\n",
        "    self.keystrain = keys[:cutoff]\n",
        "    self.keysvalid = keys[cutoff:cutoff2]\n",
        "    self.keystest = keys[cutoff2:]\n",
        "\n",
        "    default_idx = self.keystrain[0]\n",
        "    block = self.allblocks[default_idx]\n",
        "    code = block[0]\n",
        "    self.default_token = myutils.getTokens(code)\n",
        "\n",
        "  def __len__(self):\n",
        "    if self.data_split == 'train': \n",
        "      return len(self.keystrain)\n",
        "    elif self.data_split == 'valid':\n",
        "      return len(self.keysvalid)\n",
        "    elif self.data_split == 'test': \n",
        "      return len(self.keystest)\n",
        "    else:\n",
        "      print('Invalid split')\n",
        "\n",
        "  def __getitem__(self, idx):\n",
        "    word_vectors = w2v_model.wv\n",
        "    if self.data_split == 'train': \n",
        "      key_idx = self.keystrain[idx]\n",
        "    elif self.data_split == 'valid':\n",
        "      key_idx = self.keysvalid[idx]\n",
        "    elif self.data_split == 'test':\n",
        "      key_idx = self.keystest[idx]\n",
        "    block = self.allblocks[key_idx]\n",
        "    code = block[0]\n",
        "    token = myutils.getTokens(code) #get all single tokens from the snippet of code\n",
        "    if(len(token) == 0): \n",
        "      print(len(token))\n",
        "      token = self.default_token\n",
        "\n",
        "    vectorlist = []\n",
        "    if block[1] == 1: \n",
        "      label = 0 \n",
        "    else: \n",
        "      label = 1\n",
        "    for t in token: #convert all tokens into their word2vec vector representation\n",
        "      if t in word_vectors.vocab and t != \" \":\n",
        "        word_vector = w2v_model[t]\n",
        "        vectorlist.append(word_vector) \n",
        "    vectorlist = torch.tensor(vectorlist)\n",
        "    if self.transform:\n",
        "      vectorlist = self.transform(vectorlist)\n",
        "    if self.target_transform:\n",
        "      label = self.target_transform(label)\n",
        "    return vectorlist, label \n"
      ]
    },
    {
      "cell_type": "code",
      "execution_count": 12,
      "metadata": {
        "id": "36IgdIZUteuH"
      },
      "outputs": [],
      "source": [
        "# from torchtext.transforms import ToTensor, PadTransform\n",
        "\n",
        "# train_dataset = MyDataset(\n",
        "#     allblocks=allblocks,\n",
        "#     data_split='train',\n",
        "# )\n",
        "# valid_dataset = MyDataset(\n",
        "#     allblocks=allblocks,\n",
        "#     data_split='valid'\n",
        "# )\n",
        "# test_dataset = MyDataset(\n",
        "#     allblocks=allblocks,\n",
        "#     data_split='test'\n",
        "# )\n"
      ]
    },
    {
      "cell_type": "code",
      "source": [
        "data_path = '/content/drive/MyDrive/data'\n",
        "isFiltered = False \n",
        "name = '_filtered' if isFiltered else '' \n",
        "# torch.save(train_dataset, f'{data_path}/train_data_{mode}{name}.pth')\n",
        "# torch.save(valid_dataset, f'{data_path}/valid_data_{mode}{name}.pth')\n",
        "# torch.save(test_dataset, f'{data_path}/test_data_{mode}{name}.pth')"
      ],
      "metadata": {
        "id": "kfNdCdVPoxck"
      },
      "execution_count": 13,
      "outputs": []
    },
    {
      "cell_type": "code",
      "source": [
        "train_dataset = torch.load(f'{data_path}/train_data_{mode}{name}.pth')\n",
        "valid_dataset = torch.load(f'{data_path}/valid_data_{mode}{name}.pth')\n",
        "# test_dataset = torch.load(f'{data_path}/test_data_{mode}{name}.pth')\n",
        "print(len(train_dataset))"
      ],
      "metadata": {
        "id": "tONl2Kwxo5cD",
        "colab": {
          "base_uri": "https://localhost:8080/"
        },
        "outputId": "b55bb79b-811d-4602-b03f-7c7d6b1d900c"
      },
      "execution_count": 15,
      "outputs": [
        {
          "output_type": "stream",
          "name": "stdout",
          "text": [
            "96041\n"
          ]
        }
      ]
    },
    {
      "cell_type": "code",
      "execution_count": null,
      "metadata": {
        "id": "yMUbdH6lIBOe"
      },
      "outputs": [],
      "source": [
        "from torch.nn.utils.rnn import pad_sequence\n",
        "\n",
        "class MyCollate:\n",
        "    def __init__(self, pad_idx):\n",
        "        self.pad_idx = pad_idx\n",
        "        \n",
        "    \n",
        "    def __call__(self, batch):\n",
        "      source = []\n",
        "      target = []\n",
        "      for i in range(len(batch)):\n",
        "        if batch[i][0].shape[0] != 0:\n",
        "          source.append(batch[i][0]) \n",
        "          target.append(batch[i][1])\n",
        "\n",
        "      for i in range(len(batch) - len(source)):\n",
        "        source.append(source[-1])\n",
        "        target.append(target[-1])\n",
        "      \n",
        "      source = pad_sequence(source, batch_first=True, padding_value = self.pad_idx) \n",
        "      return source, target "
      ]
    },
    {
      "cell_type": "code",
      "execution_count": null,
      "metadata": {
        "id": "ZNZJPHN6LMUs"
      },
      "outputs": [],
      "source": [
        "from torch.utils.data import DataLoader \n",
        "\n",
        "def get_data_loader(dataset, batch_size, num_workers=0, shuffle=True, pin_memory=True): #increase num_workers according to CPU\n",
        "    pad_idx = 0 \n",
        "    loader = DataLoader(\n",
        "        dataset,\n",
        "        batch_size = batch_size, \n",
        "        num_workers = num_workers,\n",
        "        shuffle=shuffle,\n",
        "        pin_memory=pin_memory, \n",
        "        collate_fn = MyCollate(pad_idx=pad_idx)\n",
        "    ) \n",
        "    return loader"
      ]
    },
    {
      "cell_type": "code",
      "execution_count": null,
      "metadata": {
        "id": "YNnxQiziP1XZ"
      },
      "outputs": [],
      "source": [
        "import torch\n",
        "import torch.nn as nn\n",
        "\n",
        "\n",
        "class GRUWithConv(nn.Module):\n",
        "    def __init__(self, hidden_size=200, num_layers=1, bidirectional=False, dropout=0.2, num_conv=1):\n",
        "        super(GRUWithConv, self).__init__()\n",
        "        self.hidden_size = hidden_size\n",
        "        self.num_layers = num_layers\n",
        "        self.bidirectional = bidirectional\n",
        "        self.num_conv = num_conv\n",
        "        self.conv1ds = []\n",
        "        for i in range(num_conv):\n",
        "            self.conv1ds.append(\n",
        "                nn.Conv1d(\n",
        "                    in_channels=hidden_size,\n",
        "                    out_channels=hidden_size,\n",
        "                    stride=2,\n",
        "                    kernel_size=4\n",
        "                )\n",
        "            )\n",
        "        self.gru = nn.GRU(\n",
        "            hidden_size,\n",
        "            hidden_size,\n",
        "            dropout=dropout,\n",
        "            batch_first=True,\n",
        "            num_layers=self.num_layers,\n",
        "            bidirectional=self.bidirectional\n",
        "        )\n",
        "        self.out = nn.Linear(hidden_size, 1)\n",
        "        self.sigmoid = nn.Sigmoid()\n",
        "\n",
        "    def forward(self, input, hidden):\n",
        "        for i in range(self.num_conv):\n",
        "            input = self.conv1ds[i](input)\n",
        "        output, hidden = self.gru(input, hidden)\n",
        "        output = self.out(output)\n",
        "        output = self.sigmoid(output)\n",
        "        return output, hidden\n",
        "\n",
        "    def initHidden(self, batch_size=1):\n",
        "        hidden = torch.zeros(2 if self.bidirectional else 1 * self.num_layers, batch_size, self.hidden_size).to(device)\n",
        "        return hidden\n"
      ]
    },
    {
      "cell_type": "code",
      "source": [
        "import torch\n",
        "import torch.nn as nn\n",
        "\n",
        "\n",
        "class LSTMWithConv(nn.Module):\n",
        "    def __init__(self, hidden_size=200, num_layers=1, bidirectional=False, dropout=0.2, num_conv=1):\n",
        "        super(LSTMWithConv, self).__init__()\n",
        "        self.hidden_size = hidden_size\n",
        "        self.num_layers = num_layers\n",
        "        self.bidirectional = bidirectional\n",
        "        for i in range(num_conv):\n",
        "            self.conv1ds.append(\n",
        "                nn.Conv1d(\n",
        "                    in_channels=hidden_size,\n",
        "                    out_channels=hidden_size,\n",
        "                    stride=2,\n",
        "                    kernel_size=4\n",
        "                )\n",
        "            )\n",
        "        self.lstm = nn.LSTM(\n",
        "            hidden_size,\n",
        "            hidden_size,\n",
        "            dropout=dropout,\n",
        "            batch_first=True,\n",
        "            num_layers=self.num_layers,\n",
        "            bidirectional=self.bidirectional\n",
        "        )\n",
        "        self.out = nn.Linear(hidden_size, 1)\n",
        "        self.sigmoid = nn.Sigmoid()\n",
        "\n",
        "    def forward(self, input, hidden):\n",
        "        for i in range(self.num_conv):\n",
        "            input = self.conv1ds[i](input)\n",
        "        output, hidden = self.lstm(input, hidden)\n",
        "        output = self.out(output)\n",
        "        output = self.sigmoid(output)\n",
        "        return output, hidden\n",
        "\n",
        "    def initHidden(self, batch_size=1):\n",
        "        h0 = torch.zeros(2 if self.bidirectional else 1 * self.num_layers, batch_size, self.hidden_size).to(device)\n",
        "        c0 = torch.zeros(2 if self.bidirectional else 1 * self.num_layers, batch_size, self.hidden_size).to(device)\n",
        "        return h0, c0\n"
      ],
      "metadata": {
        "id": "XtwOqeYw2Sbx"
      },
      "execution_count": null,
      "outputs": []
    },
    {
      "cell_type": "code",
      "execution_count": null,
      "metadata": {
        "id": "fnk6ty7oU-pE"
      },
      "outputs": [],
      "source": [
        "import math\n",
        "import time\n",
        "print_every = 1000\n",
        "plot_every = 50000\n",
        "\n",
        "def timeSince(since):\n",
        "  now = time.time()\n",
        "  s = now - since\n",
        "  m = math.floor(s/60)\n",
        "  s -= m * 60\n",
        "  return f'{m}m {math.floor(s)}s' \n"
      ]
    },
    {
      "cell_type": "code",
      "source": [
        "def weighted_binary_cross_entropy(output, target, weights=None):\n",
        "    # print(output, target)\n",
        "    if weights is not None:\n",
        "        assert len(weights) == 2\n",
        "        loss = weights[1] * (target * torch.log(output)) + \\\n",
        "               weights[0] * ((1 - target) * torch.log(1 - output))\n",
        "    else:\n",
        "        loss = target * torch.log(output) + (1 - target) * torch.log(1 - output)\n",
        "\n",
        "    return torch.neg(torch.mean(loss))"
      ],
      "metadata": {
        "id": "67L3u1L5TaZo"
      },
      "execution_count": null,
      "outputs": []
    },
    {
      "cell_type": "code",
      "source": [],
      "metadata": {
        "id": "FP3u8ASpNDLL"
      },
      "execution_count": 30,
      "outputs": []
    },
    {
      "cell_type": "code",
      "execution_count": 31,
      "metadata": {
        "id": "sTANYdyqup0J"
      },
      "outputs": [],
      "source": [
        "\n",
        "from torchmetrics import F1Score, Precision, Recall\n",
        "\n",
        "def evaluate(model, loader, class_weights, epoch):\n",
        "  print('____________________eval______________________')\n",
        "  targets = torch.tensor([]).cuda() \n",
        "  preds = torch.tensor([]).cuda() \n",
        "  start = time.time()\n",
        "  all_losses = []\n",
        "\n",
        "  \n",
        "  with torch.no_grad():\n",
        "    print_count = 0 \n",
        "    for iter, (input , labels) in enumerate(loader):\n",
        "\n",
        "      hidden = model.initHidden(batch_size=len(labels))\n",
        "      label_tensor = torch.tensor(labels).to(device)\n",
        "      input = input.to(device)\n",
        "\n",
        "      targets = torch.cat((targets, torch.tensor(label_tensor)))\n",
        "      output, hidden = model(input, hidden)\n",
        "      final_output = output[:, -1, :].T\n",
        "\n",
        "      loss = weighted_binary_cross_entropy(final_output , label_tensor, weights=class_weights)\n",
        "      all_losses.append(loss)\n",
        "      preds = torch.cat((preds, final_output), 1)\n",
        "\n",
        "    eval_loss = torch.mean(torch.tensor(all_losses))\n",
        "    preds = torch.squeeze(preds)\n",
        "    targets = targets.int()\n",
        "    \n",
        "  preds = torch.tensor(preds).to(device)\n",
        "  targets = torch.tensor(targets).to(device)\n",
        "  f1 = F1Score(num_classes=1).to(device)\n",
        "\n",
        "  precision = Precision(num_classes=1).to(device)\n",
        "  recall = Recall(num_classes=1).to(device)\n",
        "\n",
        "  f1_score = f1(preds, targets)\n",
        "  precision_score = precision(preds, targets)\n",
        "  recall_score = recall(preds, targets)\n",
        "\n",
        "  wandb.log({\n",
        "    'epoch': epoch,\n",
        "    'f1 score': f1_score,\n",
        "    'precision score': precision_score,\n",
        "    'recall score': recall_score,\n",
        "    'eval loss': eval_loss\n",
        "  })\n"
      ]
    },
    {
      "cell_type": "code",
      "execution_count": 32,
      "metadata": {
        "id": "OBc6y15YU3kv"
      },
      "outputs": [],
      "source": [
        "import torch.optim as optim\n",
        "def train_mini_batch(model, input_tensor, label_tensor, optimizer, class_weights):\n",
        "  hidden = model.initHidden(batch_size=len(label_tensor))\n",
        "  model.zero_grad()\n",
        "  label_tensor = torch.tensor([label_tensor]).to(device)\n",
        "  input = input_tensor.to(device)\n",
        "  output, hidden = model(input, hidden)\n",
        "  final_output = output[:, -1, :].T\n",
        "  loss = weighted_binary_cross_entropy(final_output , label_tensor, weights=class_weights)\n",
        "  loss.backward()\n",
        "  optimizer.step()\n",
        "  return final_output, loss.item()\n",
        "  "
      ]
    },
    {
      "cell_type": "code",
      "source": [
        "def train(model, loader, optimizer, class_weights, epoch):\n",
        "  print('____________________train______________________')\n",
        "  all_losses = []\n",
        "  for iter, (input_tensor, label_tensor) in enumerate(loader):\n",
        "    preds, loss = train_mini_batch(model, input_tensor, label_tensor, optimizer, class_weights)\n",
        "    all_losses.append(loss)\n",
        "    if iter % 20 == 0:\n",
        "      print(f'current iter: {iter}, {int(iter/len(loader)* 100)}%')\n",
        "      wandb.log({'train_loop_loss': torch.mean(torch.tensor(all_losses))})\n",
        "\n",
        "    \n",
        "  wandb.log({'train_loss': torch.mean(torch.tensor(all_losses)), 'epoch': epoch}) \n"
      ],
      "metadata": {
        "id": "_K47FhFx9_w8"
      },
      "execution_count": 33,
      "outputs": []
    },
    {
      "cell_type": "code",
      "source": [
        "def getModel(architecture, config):\n",
        "  if architecture.find('GRU') != -1:\n",
        "    return GRUWithConv().to(device)\n",
        "  else:\n",
        "    return LSTMWithConv().to(device) "
      ],
      "metadata": {
        "id": "8bmpj6H2qKmm"
      },
      "execution_count": 34,
      "outputs": []
    },
    {
      "cell_type": "code",
      "execution_count": 6,
      "metadata": {
        "id": "qpLk9VpEkY4M"
      },
      "outputs": [],
      "source": [
        "# model = getModel('LSTM') \n",
        "datasets = [\n",
        "    'xss', \n",
        "    'xsrf', \n",
        "    'path_disclosure', \n",
        "    'open_redirect', \n",
        "    'command_injection', \n",
        "    'remote_code_execution', \n",
        "    'sql']\n",
        "architectures = [\n",
        "    'LSTM with 1 conv', \n",
        "    'GRU with 1 conv', \n",
        "    'LSTM with 2 conv', \n",
        "    'GRU with 2 conv', \n",
        "    'LSTM with 3 conv', \n",
        "    'GRU with 3 conv', \n",
        "]\n",
        "data_path = '/content/drive/MyDrive/data'"
      ]
    },
    {
      "cell_type": "code",
      "source": [
        "import json\n",
        "import numpy as np\n",
        "\n",
        "def load_class_weights(data_path):\n",
        "  class_weights = json.load(open(f'{data_path}/class_weights.json'))  \n",
        "  for key in class_weights:\n",
        "    class_weights[key] = np.array(class_weights[key])\n",
        "  return class_weights\n",
        "\n",
        "class_weights = load_class_weights(data_path)\n",
        "class_weights['sql']"
      ],
      "metadata": {
        "id": "8SSGceCdH6jh",
        "colab": {
          "base_uri": "https://localhost:8080/",
          "height": 340
        },
        "outputId": "8ede723f-c001-4622-913a-a5f474e29120"
      },
      "execution_count": 7,
      "outputs": [
        {
          "output_type": "error",
          "ename": "FileNotFoundError",
          "evalue": "ignored",
          "traceback": [
            "\u001b[0;31m---------------------------------------------------------------------------\u001b[0m",
            "\u001b[0;31mFileNotFoundError\u001b[0m                         Traceback (most recent call last)",
            "\u001b[0;32m<ipython-input-7-7d337966e91a>\u001b[0m in \u001b[0;36m<module>\u001b[0;34m\u001b[0m\n\u001b[1;32m      8\u001b[0m   \u001b[0;32mreturn\u001b[0m \u001b[0mclass_weights\u001b[0m\u001b[0;34m\u001b[0m\u001b[0;34m\u001b[0m\u001b[0m\n\u001b[1;32m      9\u001b[0m \u001b[0;34m\u001b[0m\u001b[0m\n\u001b[0;32m---> 10\u001b[0;31m \u001b[0mclass_weights\u001b[0m \u001b[0;34m=\u001b[0m \u001b[0mload_class_weights\u001b[0m\u001b[0;34m(\u001b[0m\u001b[0mdata_path\u001b[0m\u001b[0;34m)\u001b[0m\u001b[0;34m\u001b[0m\u001b[0;34m\u001b[0m\u001b[0m\n\u001b[0m\u001b[1;32m     11\u001b[0m \u001b[0mclass_weights\u001b[0m\u001b[0;34m[\u001b[0m\u001b[0;34m'sql'\u001b[0m\u001b[0;34m]\u001b[0m\u001b[0;34m\u001b[0m\u001b[0;34m\u001b[0m\u001b[0m\n",
            "\u001b[0;32m<ipython-input-7-7d337966e91a>\u001b[0m in \u001b[0;36mload_class_weights\u001b[0;34m(data_path)\u001b[0m\n\u001b[1;32m      3\u001b[0m \u001b[0;34m\u001b[0m\u001b[0m\n\u001b[1;32m      4\u001b[0m \u001b[0;32mdef\u001b[0m \u001b[0mload_class_weights\u001b[0m\u001b[0;34m(\u001b[0m\u001b[0mdata_path\u001b[0m\u001b[0;34m)\u001b[0m\u001b[0;34m:\u001b[0m\u001b[0;34m\u001b[0m\u001b[0;34m\u001b[0m\u001b[0m\n\u001b[0;32m----> 5\u001b[0;31m   \u001b[0mclass_weights\u001b[0m \u001b[0;34m=\u001b[0m \u001b[0mjson\u001b[0m\u001b[0;34m.\u001b[0m\u001b[0mload\u001b[0m\u001b[0;34m(\u001b[0m\u001b[0mopen\u001b[0m\u001b[0;34m(\u001b[0m\u001b[0;34mf'{data_path}/class_weights.json'\u001b[0m\u001b[0;34m)\u001b[0m\u001b[0;34m)\u001b[0m\u001b[0;34m\u001b[0m\u001b[0;34m\u001b[0m\u001b[0m\n\u001b[0m\u001b[1;32m      6\u001b[0m   \u001b[0;32mfor\u001b[0m \u001b[0mkey\u001b[0m \u001b[0;32min\u001b[0m \u001b[0mclass_weights\u001b[0m\u001b[0;34m:\u001b[0m\u001b[0;34m\u001b[0m\u001b[0;34m\u001b[0m\u001b[0m\n\u001b[1;32m      7\u001b[0m     \u001b[0mclass_weights\u001b[0m\u001b[0;34m[\u001b[0m\u001b[0mkey\u001b[0m\u001b[0;34m]\u001b[0m \u001b[0;34m=\u001b[0m \u001b[0mnp\u001b[0m\u001b[0;34m.\u001b[0m\u001b[0marray\u001b[0m\u001b[0;34m(\u001b[0m\u001b[0mclass_weights\u001b[0m\u001b[0;34m[\u001b[0m\u001b[0mkey\u001b[0m\u001b[0;34m]\u001b[0m\u001b[0;34m)\u001b[0m\u001b[0;34m\u001b[0m\u001b[0;34m\u001b[0m\u001b[0m\n",
            "\u001b[0;31mFileNotFoundError\u001b[0m: [Errno 2] No such file or directory: '/content/drive/MyDrive/data/class_weights.json'"
          ]
        }
      ]
    },
    {
      "cell_type": "code",
      "source": [
        "from sklearn.utils.class_weight import compute_class_weight\n",
        "def run():\n",
        "  conf = dict(\n",
        "    learning_rate = 0.0005,\n",
        "    infra = 'Google colab',\n",
        "    dataset = '',\n",
        "    architecure = '',\n",
        "    log_interval=1000,\n",
        "    epochs = 20,\n",
        "    batch_size=128, \n",
        "    full_length = 200,\n",
        "    step = 5,\n",
        "    word_min_count = 5000,\n",
        "    iterationen = 300,\n",
        "    hidden_size = 200,\n",
        "    with_string = 'withString',\n",
        "    num_conv_layer = 1,\n",
        "    seed = 42,\n",
        "  )\n",
        "\n",
        "  for dataset in datasets:   \n",
        "    print(f'current dataset: {dataset}')\n",
        "    conf['dataset'] = dataset\n",
        "\n",
        "    train_dataset = torch.load(f'{data_path}/train_data_{conf[\"dataset\"]}.pth')\n",
        "    train_loader = get_data_loader(train_dataset, batch_size=conf['batch_size'])\n",
        "\n",
        "    valid_dataset = torch.load(f'{data_path}/valid_data_{conf[\"dataset\"]}.pth')\n",
        "    valid_loader = get_data_loader(valid_dataset, batch_size=conf['batch_size'])\n",
        "\n",
        "    # test_dataset = torch.load(f'{data_path}/test_data_{conf[\"dataset\"]}.pth')\n",
        "    # test_loader = get_data_loader(test_dataset, batch_size=conf['batch_size'])\n",
        "    class_weights = load_class_weights(data_path)\n",
        "\n",
        "\n",
        "    for architecture in architectures:\n",
        "      print(f'current architecture: {architecture}')\n",
        "      conf['architecture'] = architecture\n",
        "      wandb.init(\n",
        "        name=f\"{dataset}_{architecture}\",\n",
        "        project='Thesis 2',\n",
        "        notes=f'Try convolution' ,\n",
        "        entity='eddiechen372',\n",
        "        tags=[architecture],\n",
        "        config=conf\n",
        "\n",
        "      )\n",
        "      model = getModel(architecture, conf)\n",
        "      optimizer = optim.Adam(model.parameters(), lr=conf['learning_rate'],  weight_decay=0)\n",
        "      print()\n",
        "      wandb.watch(model, log='all')\n",
        "\n",
        "      for i in range(conf['epochs']):\n",
        "        wandb.log({'epoch': i})\n",
        "        train(model, train_loader, optimizer, class_weights[dataset], i)\n",
        "        evaluate(model, valid_loader, class_weights[dataset], i)\n",
        "      \n"
      ],
      "metadata": {
        "id": "Hw8AY44iLyVY"
      },
      "execution_count": 8,
      "outputs": []
    },
    {
      "cell_type": "code",
      "source": [
        "run()"
      ],
      "metadata": {
        "colab": {
          "base_uri": "https://localhost:8080/",
          "height": 329
        },
        "id": "5lXAPefhzJOT",
        "outputId": "67263cdb-11cc-4c93-9ec7-a2a0d61187dd"
      },
      "execution_count": 9,
      "outputs": [
        {
          "output_type": "stream",
          "name": "stdout",
          "text": [
            "current dataset: xss\n"
          ]
        },
        {
          "output_type": "error",
          "ename": "KeyboardInterrupt",
          "evalue": "ignored",
          "traceback": [
            "\u001b[0;31m---------------------------------------------------------------------------\u001b[0m",
            "\u001b[0;31mKeyboardInterrupt\u001b[0m                         Traceback (most recent call last)",
            "\u001b[0;32m<ipython-input-9-ec9775ede022>\u001b[0m in \u001b[0;36m<module>\u001b[0;34m\u001b[0m\n\u001b[0;32m----> 1\u001b[0;31m \u001b[0mrun\u001b[0m\u001b[0;34m(\u001b[0m\u001b[0;34m)\u001b[0m\u001b[0;34m\u001b[0m\u001b[0;34m\u001b[0m\u001b[0m\n\u001b[0m",
            "\u001b[0;32m<ipython-input-8-39273211b1c2>\u001b[0m in \u001b[0;36mrun\u001b[0;34m()\u001b[0m\n\u001b[1;32m     23\u001b[0m     \u001b[0mconf\u001b[0m\u001b[0;34m[\u001b[0m\u001b[0;34m'dataset'\u001b[0m\u001b[0;34m]\u001b[0m \u001b[0;34m=\u001b[0m \u001b[0mdataset\u001b[0m\u001b[0;34m\u001b[0m\u001b[0;34m\u001b[0m\u001b[0m\n\u001b[1;32m     24\u001b[0m \u001b[0;34m\u001b[0m\u001b[0m\n\u001b[0;32m---> 25\u001b[0;31m     \u001b[0mtrain_dataset\u001b[0m \u001b[0;34m=\u001b[0m \u001b[0mtorch\u001b[0m\u001b[0;34m.\u001b[0m\u001b[0mload\u001b[0m\u001b[0;34m(\u001b[0m\u001b[0;34mf'{data_path}/train_data_{conf[\"dataset\"]}.pth'\u001b[0m\u001b[0;34m)\u001b[0m\u001b[0;34m\u001b[0m\u001b[0;34m\u001b[0m\u001b[0m\n\u001b[0m\u001b[1;32m     26\u001b[0m     \u001b[0mtrain_loader\u001b[0m \u001b[0;34m=\u001b[0m \u001b[0mget_data_loader\u001b[0m\u001b[0;34m(\u001b[0m\u001b[0mtrain_dataset\u001b[0m\u001b[0;34m,\u001b[0m \u001b[0mbatch_size\u001b[0m\u001b[0;34m=\u001b[0m\u001b[0mconf\u001b[0m\u001b[0;34m[\u001b[0m\u001b[0;34m'batch_size'\u001b[0m\u001b[0;34m]\u001b[0m\u001b[0;34m)\u001b[0m\u001b[0;34m\u001b[0m\u001b[0;34m\u001b[0m\u001b[0m\n\u001b[1;32m     27\u001b[0m \u001b[0;34m\u001b[0m\u001b[0m\n",
            "\u001b[0;32m/usr/local/lib/python3.7/dist-packages/torch/serialization.py\u001b[0m in \u001b[0;36mload\u001b[0;34m(f, map_location, pickle_module, **pickle_load_args)\u001b[0m\n\u001b[1;32m    703\u001b[0m             \u001b[0;31m# reset back to the original position.\u001b[0m\u001b[0;34m\u001b[0m\u001b[0;34m\u001b[0m\u001b[0;34m\u001b[0m\u001b[0m\n\u001b[1;32m    704\u001b[0m             \u001b[0morig_position\u001b[0m \u001b[0;34m=\u001b[0m \u001b[0mopened_file\u001b[0m\u001b[0;34m.\u001b[0m\u001b[0mtell\u001b[0m\u001b[0;34m(\u001b[0m\u001b[0;34m)\u001b[0m\u001b[0;34m\u001b[0m\u001b[0;34m\u001b[0m\u001b[0m\n\u001b[0;32m--> 705\u001b[0;31m             \u001b[0;32mwith\u001b[0m \u001b[0m_open_zipfile_reader\u001b[0m\u001b[0;34m(\u001b[0m\u001b[0mopened_file\u001b[0m\u001b[0;34m)\u001b[0m \u001b[0;32mas\u001b[0m \u001b[0mopened_zipfile\u001b[0m\u001b[0;34m:\u001b[0m\u001b[0;34m\u001b[0m\u001b[0;34m\u001b[0m\u001b[0m\n\u001b[0m\u001b[1;32m    706\u001b[0m                 \u001b[0;32mif\u001b[0m \u001b[0m_is_torchscript_zip\u001b[0m\u001b[0;34m(\u001b[0m\u001b[0mopened_zipfile\u001b[0m\u001b[0;34m)\u001b[0m\u001b[0;34m:\u001b[0m\u001b[0;34m\u001b[0m\u001b[0;34m\u001b[0m\u001b[0m\n\u001b[1;32m    707\u001b[0m                     warnings.warn(\"'torch.load' received a zip file that looks like a TorchScript archive\"\n",
            "\u001b[0;32m/usr/local/lib/python3.7/dist-packages/torch/serialization.py\u001b[0m in \u001b[0;36m__init__\u001b[0;34m(self, name_or_buffer)\u001b[0m\n\u001b[1;32m    240\u001b[0m \u001b[0;32mclass\u001b[0m \u001b[0m_open_zipfile_reader\u001b[0m\u001b[0;34m(\u001b[0m\u001b[0m_opener\u001b[0m\u001b[0;34m)\u001b[0m\u001b[0;34m:\u001b[0m\u001b[0;34m\u001b[0m\u001b[0;34m\u001b[0m\u001b[0m\n\u001b[1;32m    241\u001b[0m     \u001b[0;32mdef\u001b[0m \u001b[0m__init__\u001b[0m\u001b[0;34m(\u001b[0m\u001b[0mself\u001b[0m\u001b[0;34m,\u001b[0m \u001b[0mname_or_buffer\u001b[0m\u001b[0;34m)\u001b[0m \u001b[0;34m->\u001b[0m \u001b[0;32mNone\u001b[0m\u001b[0;34m:\u001b[0m\u001b[0;34m\u001b[0m\u001b[0;34m\u001b[0m\u001b[0m\n\u001b[0;32m--> 242\u001b[0;31m         \u001b[0msuper\u001b[0m\u001b[0;34m(\u001b[0m\u001b[0m_open_zipfile_reader\u001b[0m\u001b[0;34m,\u001b[0m \u001b[0mself\u001b[0m\u001b[0;34m)\u001b[0m\u001b[0;34m.\u001b[0m\u001b[0m__init__\u001b[0m\u001b[0;34m(\u001b[0m\u001b[0mtorch\u001b[0m\u001b[0;34m.\u001b[0m\u001b[0m_C\u001b[0m\u001b[0;34m.\u001b[0m\u001b[0mPyTorchFileReader\u001b[0m\u001b[0;34m(\u001b[0m\u001b[0mname_or_buffer\u001b[0m\u001b[0;34m)\u001b[0m\u001b[0;34m)\u001b[0m\u001b[0;34m\u001b[0m\u001b[0;34m\u001b[0m\u001b[0m\n\u001b[0m\u001b[1;32m    243\u001b[0m \u001b[0;34m\u001b[0m\u001b[0m\n\u001b[1;32m    244\u001b[0m \u001b[0;34m\u001b[0m\u001b[0m\n",
            "\u001b[0;31mKeyboardInterrupt\u001b[0m: "
          ]
        }
      ]
    },
    {
      "cell_type": "code",
      "source": [],
      "metadata": {
        "id": "4AG3IDlPKvI3"
      },
      "execution_count": null,
      "outputs": []
    }
  ],
  "metadata": {
    "accelerator": "GPU",
    "colab": {
      "provenance": [],
      "collapsed_sections": [],
      "include_colab_link": true
    },
    "gpuClass": "standard",
    "kernelspec": {
      "display_name": "Python 3",
      "name": "python3"
    },
    "language_info": {
      "name": "python"
    }
  },
  "nbformat": 4,
  "nbformat_minor": 0
}